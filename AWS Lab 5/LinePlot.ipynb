{
 "cells": [
  {
   "cell_type": "markdown",
   "id": "5067d7f6",
   "metadata": {},
   "source": [
    "# Task 4.1: Create a line graph\n",
    "\n",
    "For the first example of how to use Bokeh, you will create a simple line graph. The sample code uses the following commands:\n",
    "\n",
    "from bokeh.plotting – Calls the plotting command to create the x/y plot.\n",
    "output_file (\"lines.html\") – Creates a file to capture the plot.\n",
    "x = [] – Defines data point values.\n",
    "p = figure – Creates a new plot with title and access.\n",
    "p.line – Creates the line plot.\n",
    "show(p) – Displays the plot.\n",
    "Copy the following code:\n"
   ]
  },
  {
   "cell_type": "code",
   "execution_count": 6,
   "id": "0c012dc4",
   "metadata": {},
   "outputs": [],
   "source": [
    "\n",
    "\n",
    "from bokeh.plotting import figure, output_file, show\n",
    "\n",
    "# prepare some data\n",
    "x = [1, 2, 3, 4, 5]\n",
    "y = [6, 7, 2, 4, 5]\n",
    "\n",
    "# output to static HTML file\n",
    "output_file(\"lines.html\")\n",
    "# create a new plot with a title and axis labels\n",
    "p = figure(title=\"simple line example 2\", x_axis_label='x', y_axis_label='y')\n",
    "\n",
    "# add a line renderer with legend and line thickness\n",
    "p.line(x, y, legend_label=\"Temp.\", line_width=2)\n",
    "\n",
    "# show the results\n",
    "show(p)"
   ]
  },
  {
   "cell_type": "code",
   "execution_count": null,
   "id": "598eba1e",
   "metadata": {},
   "outputs": [],
   "source": []
  }
 ],
 "metadata": {
  "kernelspec": {
   "display_name": "conda_python3",
   "language": "python",
   "name": "conda_python3"
  },
  "language_info": {
   "codemirror_mode": {
    "name": "ipython",
    "version": 3
   },
   "file_extension": ".py",
   "mimetype": "text/x-python",
   "name": "python",
   "nbconvert_exporter": "python",
   "pygments_lexer": "ipython3",
   "version": "3.8.12"
  }
 },
 "nbformat": 4,
 "nbformat_minor": 5
}

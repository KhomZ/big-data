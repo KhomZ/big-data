{
 "cells": [
  {
   "cell_type": "markdown",
   "id": "e469eaed",
   "metadata": {},
   "source": [
    "# Task 5: Create a visualization from a dataset\n",
    "\n",
    "You can create Bokeh visualizations from a wide variety of data sources. For example, you can load data from a database or from other AWS services. In this task, you will create a visualization from data that is stored in Amazon Simple Storage Service (Amazon S3)."
   ]
  },
  {
   "cell_type": "markdown",
   "id": "96a4e1cf",
   "metadata": {},
   "source": [
    "# Task 5.1: Download the data file\n",
    "\n",
    "You can run AWS Command Line Interface (AWS CLI) commands by creating a terminal window in the Jupyter notebook. In this task, you will use the Amazon S3 cp command to copy a file from Amazon S3 to a local directory. The local directory is on the Amazon Elastic Compute Cloud (Amazon EC2) instance that was created by Amazon SageMaker.\n",
    "\n",
    "\n",
    "Open the Jupyter dashboard by choosing the Jupyter logo.\n",
    "\n",
    "Note: You might get a warning from the browser that you are going to leave the website. If so, accept that you are leaving by choosing Leave.\n",
    "\n",
    "Choose New and then from the list, choose Terminal.\n",
    "\n",
    "A new terminal window opens.\n",
    "\n",
    "Copy the following AWS CLI command, and paste it into the terminal window:\n",
    "\n",
    "`aws s3 cp s3://aws-tc-largeobjects/CUR-TF-200-ACBDFO-1/Lab5/yellow_tripdata_2017-01.csv  yellow_tripdata_2017-01.csv`"
   ]
  },
  {
   "cell_type": "code",
   "execution_count": 2,
   "id": "ba4737d9",
   "metadata": {},
   "outputs": [],
   "source": [
    "# Summary of taxi trips taken in January 2017\n",
    "\n",
    "import pandas as pd\n",
    "from bokeh.plotting import figure, output_file, show\n",
    "from bokeh.models import ColumnDataSource\n",
    "\n",
    "output_file('taxidata.html')\n",
    "df = pd.read_csv('/home/ec2-user/yellow_tripdata_2017-01.csv')\n",
    "sample = df.sample (50)\n",
    "source = ColumnDataSource(sample)\n",
    "p=figure()\n",
    "p.circle(x='passenger_count', y='total_amount', source=source, size=10, color='green')\n",
    "p.title.text = 'Taxi rides'\n",
    "p.xaxis.axis_label = \"Passengers\"\n",
    "p.yaxis.axis_label = \"Amount paid\"\n",
    "show(p)"
   ]
  },
  {
   "cell_type": "markdown",
   "id": "c521ad1d",
   "metadata": {},
   "source": [
    "Choose the taxidata.html file.\n",
    "The file that contains the circle plot opens.\n",
    "\n",
    "You see the following visualization of the taxi data:\n"
   ]
  },
  {
   "cell_type": "code",
   "execution_count": null,
   "id": "61b1f496",
   "metadata": {},
   "outputs": [],
   "source": []
  }
 ],
 "metadata": {
  "kernelspec": {
   "display_name": "conda_python3",
   "language": "python",
   "name": "conda_python3"
  },
  "language_info": {
   "codemirror_mode": {
    "name": "ipython",
    "version": 3
   },
   "file_extension": ".py",
   "mimetype": "text/x-python",
   "name": "python",
   "nbconvert_exporter": "python",
   "pygments_lexer": "ipython3",
   "version": "3.8.12"
  }
 },
 "nbformat": 4,
 "nbformat_minor": 5
}
